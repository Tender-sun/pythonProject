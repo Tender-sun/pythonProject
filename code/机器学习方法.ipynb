{
 "cells": [
  {
   "cell_type": "code",
   "execution_count": 4,
   "metadata": {
    "collapsed": true
   },
   "outputs": [],
   "source": [
    "import numpy as np\n",
    "import pandas as pd\n",
    "df = pd.read_csv(\"test.csv\").astype(str)"
   ]
  },
  {
   "cell_type": "code",
   "execution_count": 49,
   "outputs": [],
   "source": [
    "import pandas as pd\n",
    "df1  =pd.read_csv('./娟低高1.csv').astype(str)\n",
    "df2 = pd.read_csv('其他类.csv').astype(str)\n",
    "df = df1[0:327]\n",
    "df2['label'] = 2"
   ],
   "metadata": {
    "collapsed": false,
    "pycharm": {
     "name": "#%%\n"
    }
   }
  },
  {
   "cell_type": "code",
   "execution_count": 50,
   "outputs": [],
   "source": [
    "df= pd.concat([df,df2])"
   ],
   "metadata": {
    "collapsed": false,
    "pycharm": {
     "name": "#%%\n"
    }
   }
  },
  {
   "cell_type": "code",
   "execution_count": 53,
   "outputs": [
    {
     "data": {
      "text/plain": "    Unnamed: 0 Unnamed: 0.1 label  \\\n0            0            1     0   \n1            1            2     0   \n2            2            3     0   \n3            3            4     0   \n4            4            5     0   \n..         ...          ...   ...   \n649        322          323     2   \n650        323          324     2   \n651        324          325     2   \n652        325          326     2   \n653        326          327     2   \n\n                                               content  \n0    ﻿ 第 章全 不知 幻想 一个 童话国 里 住 男孩儿 女孩儿 丁点儿 男孩儿 女孩儿 叫做...  \n1    ﻿ 第一章 万事通 战胜 小星星 教授 全 不知 太阳城 旅行 回来 已经 过去 两年 半 ...  \n2    ﻿ 第 章 花城 矮子 一座 童话 城市 里 住 矮子 管 叫 矮子 是因为 很小 每个 矮...  \n3    一个 贵族 女儿 　 　 风儿 草 吹 过去 时候 田野 就 像 湖水 一起 涟漪 麦子 扫...  \n4    一朵 叫 童话 蒲公英 斑马 一起 奔跑 一个 懒洋洋 季节 茉莉 正 坐在 树 发呆 一匹...  \n..                                                 ...  \n649  本书 wwwabadacn 免费 txt 小说 下载站 更新 免费 电子书 关注 wwwab...  \n650  相关 书评 文化 簇拥 历史 命运 藏族 小说 首席 金座 活佛 海杰 藏族 文化 成为 热...  \n651  驼峰 航线 自序 驼峰 航线 绵延 千里 终年 白雪皑皑 喜马拉雅山 山脉 横断山脉 上空 ...  \n652  骚戏 在此之前 细读 西门 两部 长篇小说 敏感 莲衣 现实 张扬 躁气 讲述 历史 香艳 ...  \n653  第一 部分 田家 中华民国 九年 五月 二十一日 午夜 十一时 三十五分 依傍 古黄河 宁阳...  \n\n[654 rows x 4 columns]",
      "text/html": "<div>\n<style scoped>\n    .dataframe tbody tr th:only-of-type {\n        vertical-align: middle;\n    }\n\n    .dataframe tbody tr th {\n        vertical-align: top;\n    }\n\n    .dataframe thead th {\n        text-align: right;\n    }\n</style>\n<table border=\"1\" class=\"dataframe\">\n  <thead>\n    <tr style=\"text-align: right;\">\n      <th></th>\n      <th>Unnamed: 0</th>\n      <th>Unnamed: 0.1</th>\n      <th>label</th>\n      <th>content</th>\n    </tr>\n  </thead>\n  <tbody>\n    <tr>\n      <th>0</th>\n      <td>0</td>\n      <td>1</td>\n      <td>0</td>\n      <td>﻿ 第 章全 不知 幻想 一个 童话国 里 住 男孩儿 女孩儿 丁点儿 男孩儿 女孩儿 叫做...</td>\n    </tr>\n    <tr>\n      <th>1</th>\n      <td>1</td>\n      <td>2</td>\n      <td>0</td>\n      <td>﻿ 第一章 万事通 战胜 小星星 教授 全 不知 太阳城 旅行 回来 已经 过去 两年 半 ...</td>\n    </tr>\n    <tr>\n      <th>2</th>\n      <td>2</td>\n      <td>3</td>\n      <td>0</td>\n      <td>﻿ 第 章 花城 矮子 一座 童话 城市 里 住 矮子 管 叫 矮子 是因为 很小 每个 矮...</td>\n    </tr>\n    <tr>\n      <th>3</th>\n      <td>3</td>\n      <td>4</td>\n      <td>0</td>\n      <td>一个 贵族 女儿 　 　 风儿 草 吹 过去 时候 田野 就 像 湖水 一起 涟漪 麦子 扫...</td>\n    </tr>\n    <tr>\n      <th>4</th>\n      <td>4</td>\n      <td>5</td>\n      <td>0</td>\n      <td>一朵 叫 童话 蒲公英 斑马 一起 奔跑 一个 懒洋洋 季节 茉莉 正 坐在 树 发呆 一匹...</td>\n    </tr>\n    <tr>\n      <th>...</th>\n      <td>...</td>\n      <td>...</td>\n      <td>...</td>\n      <td>...</td>\n    </tr>\n    <tr>\n      <th>649</th>\n      <td>322</td>\n      <td>323</td>\n      <td>2</td>\n      <td>本书 wwwabadacn 免费 txt 小说 下载站 更新 免费 电子书 关注 wwwab...</td>\n    </tr>\n    <tr>\n      <th>650</th>\n      <td>323</td>\n      <td>324</td>\n      <td>2</td>\n      <td>相关 书评 文化 簇拥 历史 命运 藏族 小说 首席 金座 活佛 海杰 藏族 文化 成为 热...</td>\n    </tr>\n    <tr>\n      <th>651</th>\n      <td>324</td>\n      <td>325</td>\n      <td>2</td>\n      <td>驼峰 航线 自序 驼峰 航线 绵延 千里 终年 白雪皑皑 喜马拉雅山 山脉 横断山脉 上空 ...</td>\n    </tr>\n    <tr>\n      <th>652</th>\n      <td>325</td>\n      <td>326</td>\n      <td>2</td>\n      <td>骚戏 在此之前 细读 西门 两部 长篇小说 敏感 莲衣 现实 张扬 躁气 讲述 历史 香艳 ...</td>\n    </tr>\n    <tr>\n      <th>653</th>\n      <td>326</td>\n      <td>327</td>\n      <td>2</td>\n      <td>第一 部分 田家 中华民国 九年 五月 二十一日 午夜 十一时 三十五分 依傍 古黄河 宁阳...</td>\n    </tr>\n  </tbody>\n</table>\n<p>654 rows × 4 columns</p>\n</div>"
     },
     "execution_count": 53,
     "metadata": {},
     "output_type": "execute_result"
    }
   ],
   "source": [
    "df"
   ],
   "metadata": {
    "collapsed": false,
    "pycharm": {
     "name": "#%%\n"
    }
   }
  },
  {
   "cell_type": "code",
   "execution_count": 52,
   "outputs": [],
   "source": [
    "df.to_csv(\"02.csv\")\n",
    "df = pd.read_csv(\"02.csv\").astype(str)"
   ],
   "metadata": {
    "collapsed": false,
    "pycharm": {
     "name": "#%%\n"
    }
   }
  },
  {
   "cell_type": "code",
   "execution_count": 54,
   "outputs": [],
   "source": [
    "list=df.iloc[:,3].apply(lambda x:(x.split()))"
   ],
   "metadata": {
    "collapsed": false,
    "pycharm": {
     "name": "#%%\n"
    }
   }
  },
  {
   "cell_type": "code",
   "execution_count": 55,
   "outputs": [
    {
     "data": {
      "text/plain": "0      [﻿, 第, 章全, 不知, 幻想, 一个, 童话国, 里, 住, 男孩儿, 女孩儿, 丁点...\n1      [﻿, 第一章, 万事通, 战胜, 小星星, 教授, 全, 不知, 太阳城, 旅行, 回来,...\n2      [﻿, 第, 章, 花城, 矮子, 一座, 童话, 城市, 里, 住, 矮子, 管, 叫, ...\n3      [一个, 贵族, 女儿, 风儿, 草, 吹, 过去, 时候, 田野, 就, 像, 湖水, 一...\n4      [一朵, 叫, 童话, 蒲公英, 斑马, 一起, 奔跑, 一个, 懒洋洋, 季节, 茉莉, ...\n                             ...                        \n649    [本书, wwwabadacn, 免费, txt, 小说, 下载站, 更新, 免费, 电子书...\n650    [相关, 书评, 文化, 簇拥, 历史, 命运, 藏族, 小说, 首席, 金座, 活佛, 海...\n651    [驼峰, 航线, 自序, 驼峰, 航线, 绵延, 千里, 终年, 白雪皑皑, 喜马拉雅山, ...\n652    [骚戏, 在此之前, 细读, 西门, 两部, 长篇小说, 敏感, 莲衣, 现实, 张扬, 躁...\n653    [第一, 部分, 田家, 中华民国, 九年, 五月, 二十一日, 午夜, 十一时, 三十五分...\nName: content, Length: 654, dtype: object"
     },
     "execution_count": 55,
     "metadata": {},
     "output_type": "execute_result"
    }
   ],
   "source": [
    "list"
   ],
   "metadata": {
    "collapsed": false,
    "pycharm": {
     "name": "#%%\n"
    }
   }
  },
  {
   "cell_type": "code",
   "execution_count": 57,
   "outputs": [
    {
     "name": "stdout",
     "output_type": "stream",
     "text": [
      "0\n",
      "1\n",
      "2\n",
      "3\n",
      "4\n",
      "5\n",
      "6\n",
      "7\n",
      "8\n",
      "9\n",
      "10\n",
      "11\n",
      "12\n",
      "13\n",
      "14\n",
      "15\n",
      "16\n",
      "17\n",
      "18\n",
      "19\n",
      "20\n",
      "21\n",
      "22\n",
      "23\n",
      "24\n",
      "25\n",
      "26\n",
      "27\n",
      "28\n",
      "29\n",
      "30\n",
      "31\n",
      "32\n",
      "33\n",
      "34\n",
      "35\n",
      "36\n",
      "37\n",
      "38\n",
      "39\n",
      "40\n",
      "41\n",
      "42\n",
      "43\n",
      "44\n",
      "45\n",
      "46\n",
      "47\n",
      "48\n",
      "49\n",
      "50\n",
      "51\n",
      "52\n",
      "53\n",
      "54\n",
      "55\n",
      "56\n",
      "57\n",
      "58\n",
      "59\n",
      "60\n",
      "61\n",
      "62\n",
      "63\n",
      "64\n",
      "65\n",
      "66\n",
      "67\n",
      "68\n",
      "69\n",
      "70\n",
      "71\n",
      "72\n",
      "73\n",
      "74\n",
      "75\n",
      "76\n",
      "77\n",
      "78\n",
      "79\n",
      "80\n",
      "81\n",
      "82\n",
      "83\n",
      "84\n",
      "85\n",
      "86\n",
      "87\n",
      "88\n",
      "89\n",
      "90\n",
      "91\n",
      "92\n",
      "93\n",
      "94\n",
      "95\n",
      "96\n",
      "97\n",
      "98\n",
      "99\n",
      "100\n",
      "101\n",
      "102\n",
      "103\n",
      "104\n",
      "105\n",
      "106\n",
      "107\n",
      "108\n",
      "109\n",
      "110\n",
      "111\n",
      "112\n",
      "113\n",
      "114\n",
      "115\n",
      "116\n",
      "117\n",
      "118\n",
      "119\n",
      "120\n",
      "121\n",
      "122\n",
      "123\n",
      "124\n",
      "125\n",
      "126\n",
      "127\n",
      "128\n",
      "129\n",
      "130\n",
      "131\n",
      "132\n",
      "133\n",
      "134\n",
      "135\n",
      "136\n",
      "137\n",
      "138\n",
      "139\n",
      "140\n",
      "141\n",
      "142\n",
      "143\n",
      "144\n",
      "145\n",
      "146\n",
      "147\n",
      "148\n",
      "149\n",
      "150\n",
      "151\n",
      "152\n",
      "153\n",
      "154\n",
      "155\n",
      "156\n",
      "157\n",
      "158\n",
      "159\n",
      "160\n",
      "161\n",
      "162\n",
      "163\n",
      "164\n",
      "165\n",
      "166\n",
      "167\n",
      "168\n",
      "169\n",
      "170\n",
      "171\n",
      "172\n",
      "173\n",
      "174\n",
      "175\n",
      "176\n",
      "177\n",
      "178\n",
      "179\n",
      "180\n",
      "181\n",
      "182\n",
      "183\n",
      "184\n",
      "185\n",
      "186\n",
      "187\n",
      "188\n",
      "189\n",
      "190\n",
      "191\n",
      "192\n",
      "193\n",
      "194\n",
      "195\n",
      "196\n",
      "197\n",
      "198\n",
      "199\n",
      "200\n",
      "201\n",
      "202\n",
      "203\n",
      "204\n",
      "205\n",
      "206\n",
      "207\n",
      "208\n",
      "209\n",
      "210\n",
      "211\n",
      "212\n",
      "213\n",
      "214\n",
      "215\n",
      "216\n",
      "217\n",
      "218\n",
      "219\n",
      "220\n",
      "221\n",
      "222\n",
      "223\n",
      "224\n",
      "225\n",
      "226\n",
      "227\n",
      "228\n",
      "229\n",
      "230\n",
      "231\n",
      "232\n",
      "233\n",
      "234\n",
      "235\n",
      "236\n",
      "237\n",
      "238\n",
      "239\n",
      "240\n",
      "241\n",
      "242\n",
      "243\n",
      "244\n",
      "245\n",
      "246\n",
      "247\n",
      "248\n",
      "249\n",
      "250\n",
      "251\n",
      "252\n",
      "253\n",
      "254\n",
      "255\n",
      "256\n",
      "257\n",
      "258\n",
      "259\n",
      "260\n",
      "261\n",
      "262\n",
      "263\n",
      "264\n",
      "265\n",
      "266\n",
      "267\n",
      "268\n",
      "269\n",
      "270\n",
      "271\n",
      "272\n",
      "273\n",
      "274\n",
      "275\n",
      "276\n",
      "277\n",
      "278\n",
      "279\n",
      "280\n",
      "281\n",
      "282\n",
      "283\n",
      "284\n",
      "285\n",
      "286\n",
      "287\n",
      "288\n",
      "289\n",
      "290\n",
      "291\n",
      "292\n",
      "293\n",
      "294\n",
      "295\n",
      "296\n",
      "297\n",
      "298\n",
      "299\n",
      "300\n",
      "301\n",
      "302\n",
      "303\n",
      "304\n",
      "305\n",
      "306\n",
      "307\n",
      "308\n",
      "309\n",
      "310\n",
      "311\n",
      "312\n",
      "313\n",
      "314\n",
      "315\n",
      "316\n",
      "317\n",
      "318\n",
      "319\n",
      "320\n",
      "321\n",
      "322\n",
      "323\n",
      "324\n",
      "325\n",
      "326\n",
      "327\n",
      "328\n",
      "329\n",
      "330\n",
      "331\n",
      "332\n",
      "333\n",
      "334\n",
      "335\n",
      "336\n",
      "337\n",
      "338\n",
      "339\n",
      "340\n",
      "341\n",
      "342\n",
      "343\n",
      "344\n",
      "345\n",
      "346\n",
      "347\n",
      "348\n",
      "349\n",
      "350\n",
      "351\n",
      "352\n",
      "353\n",
      "354\n",
      "355\n",
      "356\n",
      "357\n",
      "358\n",
      "359\n",
      "360\n",
      "361\n",
      "362\n",
      "363\n",
      "364\n",
      "365\n",
      "366\n",
      "367\n",
      "368\n",
      "369\n",
      "370\n",
      "371\n",
      "372\n",
      "373\n",
      "374\n",
      "375\n",
      "376\n",
      "377\n",
      "378\n",
      "379\n",
      "380\n",
      "381\n",
      "382\n",
      "383\n",
      "384\n",
      "385\n",
      "386\n",
      "387\n",
      "388\n",
      "389\n",
      "390\n",
      "391\n",
      "392\n",
      "393\n",
      "394\n",
      "395\n",
      "396\n",
      "397\n",
      "398\n",
      "399\n",
      "400\n",
      "401\n",
      "402\n",
      "403\n",
      "404\n",
      "405\n",
      "406\n",
      "407\n",
      "408\n",
      "409\n",
      "410\n",
      "411\n",
      "412\n",
      "413\n",
      "414\n",
      "415\n",
      "416\n",
      "417\n",
      "418\n",
      "419\n",
      "420\n",
      "421\n",
      "422\n",
      "423\n",
      "424\n",
      "425\n",
      "426\n",
      "427\n",
      "428\n",
      "429\n",
      "430\n",
      "431\n",
      "432\n",
      "433\n",
      "434\n",
      "435\n",
      "436\n",
      "437\n",
      "438\n",
      "439\n",
      "440\n",
      "441\n",
      "442\n",
      "443\n",
      "444\n",
      "445\n",
      "446\n",
      "447\n",
      "448\n",
      "449\n",
      "450\n",
      "451\n",
      "452\n",
      "453\n",
      "454\n",
      "455\n",
      "456\n",
      "457\n",
      "458\n",
      "459\n",
      "460\n",
      "461\n",
      "462\n",
      "463\n",
      "464\n",
      "465\n",
      "466\n",
      "467\n",
      "468\n",
      "469\n",
      "470\n",
      "471\n",
      "472\n",
      "473\n",
      "474\n",
      "475\n",
      "476\n",
      "477\n",
      "478\n",
      "479\n",
      "480\n",
      "481\n",
      "482\n",
      "483\n",
      "484\n",
      "485\n",
      "486\n",
      "487\n",
      "488\n",
      "489\n",
      "490\n",
      "491\n",
      "492\n",
      "493\n",
      "494\n",
      "495\n",
      "496\n",
      "497\n",
      "498\n",
      "499\n",
      "500\n",
      "501\n",
      "502\n",
      "503\n",
      "504\n",
      "505\n",
      "506\n",
      "507\n",
      "508\n",
      "509\n",
      "510\n",
      "511\n",
      "512\n",
      "513\n",
      "514\n",
      "515\n",
      "516\n",
      "517\n",
      "518\n",
      "519\n",
      "520\n",
      "521\n",
      "522\n",
      "523\n",
      "524\n",
      "525\n",
      "526\n",
      "527\n",
      "528\n",
      "529\n",
      "530\n",
      "531\n",
      "532\n",
      "533\n",
      "534\n",
      "535\n",
      "536\n",
      "537\n",
      "538\n",
      "539\n",
      "540\n",
      "541\n",
      "542\n",
      "543\n",
      "544\n",
      "545\n",
      "546\n",
      "547\n",
      "548\n",
      "549\n",
      "550\n",
      "551\n",
      "552\n",
      "553\n",
      "554\n",
      "555\n",
      "556\n",
      "557\n",
      "558\n",
      "559\n",
      "560\n",
      "561\n",
      "562\n",
      "563\n",
      "564\n",
      "565\n",
      "566\n",
      "567\n",
      "568\n",
      "569\n",
      "570\n",
      "571\n",
      "572\n",
      "573\n",
      "574\n",
      "575\n",
      "576\n",
      "577\n",
      "578\n",
      "579\n",
      "580\n",
      "581\n",
      "582\n",
      "583\n",
      "584\n",
      "585\n",
      "586\n",
      "587\n",
      "588\n",
      "589\n",
      "590\n",
      "591\n",
      "592\n",
      "593\n",
      "594\n",
      "595\n",
      "596\n",
      "597\n",
      "598\n",
      "599\n",
      "600\n",
      "601\n",
      "602\n",
      "603\n",
      "604\n",
      "605\n",
      "606\n",
      "607\n",
      "608\n",
      "609\n",
      "610\n",
      "611\n",
      "612\n",
      "613\n",
      "614\n",
      "615\n",
      "616\n",
      "617\n",
      "618\n",
      "619\n",
      "620\n",
      "621\n",
      "622\n",
      "623\n",
      "624\n",
      "625\n",
      "626\n",
      "627\n",
      "628\n",
      "629\n",
      "630\n",
      "631\n",
      "632\n",
      "633\n",
      "634\n",
      "635\n",
      "636\n",
      "637\n",
      "638\n",
      "639\n",
      "640\n",
      "641\n",
      "642\n",
      "643\n",
      "644\n",
      "645\n",
      "646\n",
      "647\n",
      "648\n",
      "649\n",
      "650\n",
      "651\n",
      "652\n",
      "653\n"
     ]
    }
   ],
   "source": [
    "all_words_dict = {}\n",
    "word_list = []\n",
    "a = 0\n",
    "for i in range(654):\n",
    "    word_list = list[a]\n",
    "    a = a+1\n",
    "    print(i)\n",
    "    for word in word_list:\n",
    "        if word in all_words_dict:\n",
    "            all_words_dict[word] += 1\n",
    "        else:\n",
    "            all_words_dict[word] = 1\n",
    "all_words_tuple_list = sorted(all_words_dict.items(), key=lambda f: f[1], reverse=True)  # 内建函数sorted参数需为list"
   ],
   "metadata": {
    "collapsed": false,
    "pycharm": {
     "name": "#%%\n"
    }
   }
  },
  {
   "cell_type": "code",
   "execution_count": 58,
   "outputs": [
    {
     "data": {
      "text/plain": "(724567, 2)"
     },
     "execution_count": 58,
     "metadata": {},
     "output_type": "execute_result"
    }
   ],
   "source": [
    "import numpy as np\n",
    "np.shape(all_words_tuple_list)"
   ],
   "metadata": {
    "collapsed": false,
    "pycharm": {
     "name": "#%%\n"
    }
   }
  },
  {
   "cell_type": "code",
   "execution_count": 59,
   "outputs": [],
   "source": [
    "all_word=[]\n",
    "for i in range(724567):\n",
    "    s = all_words_tuple_list[i][0]\n",
    "    all_word.append(s)"
   ],
   "metadata": {
    "collapsed": false,
    "pycharm": {
     "name": "#%%\n"
    }
   }
  },
  {
   "cell_type": "code",
   "execution_count": 60,
   "outputs": [],
   "source": [
    "def words_dict(all_words_list, n):\n",
    "    with open('D:/jupyter-notebook/2~6高年级词库.txt', 'r', encoding=\"UTF-8\") as f:\n",
    "        words_for_students = f.read().split()\n",
    "    words = []\n",
    "    for word in all_words_list[n:]:\n",
    "        if word in words_for_students:\n",
    "            words.append(word)\n",
    "    feature_words = words\n",
    "    return feature_words\n",
    "f_w = words_dict(all_word, 2000) #去除前n个高频率词汇\n",
    "def text_features(text, feature_words,flag):\n",
    "    text_words = set(text)\n",
    "    if flag == 'nltk':\n",
    "        features = {word: 1 if word in text_words else 0 for word in feature_words}\n",
    "    elif flag == 'sklearn':\n",
    "        features = [1 if word in text_words else 0 for word in feature_words]\n",
    "    else:\n",
    "        features = []\n",
    "    return features\n",
    "train_feature_list = [text_features(text, f_w,flag='sklearn') for text in list]"
   ],
   "metadata": {
    "collapsed": false,
    "pycharm": {
     "name": "#%%\n"
    }
   }
  },
  {
   "cell_type": "code",
   "execution_count": 61,
   "outputs": [
    {
     "data": {
      "text/plain": "(654, 1852)"
     },
     "execution_count": 61,
     "metadata": {},
     "output_type": "execute_result"
    }
   ],
   "source": [
    "np.shape(train_feature_list)"
   ],
   "metadata": {
    "collapsed": false,
    "pycharm": {
     "name": "#%%\n"
    }
   }
  },
  {
   "cell_type": "code",
   "execution_count": 62,
   "outputs": [],
   "source": [
    "class_list = []\n",
    "for i in range(654):\n",
    "    #print(i)\n",
    "    if i < 328:\n",
    "        class_list.append(0)\n",
    "    elif i < 656:\n",
    "        class_list.append(1)\n",
    "    else :\n",
    "        class_list.append(2)"
   ],
   "metadata": {
    "collapsed": false,
    "pycharm": {
     "name": "#%%\n"
    }
   }
  },
  {
   "cell_type": "code",
   "execution_count": 63,
   "outputs": [
    {
     "data": {
      "text/plain": "(654,)"
     },
     "execution_count": 63,
     "metadata": {},
     "output_type": "execute_result"
    }
   ],
   "source": [
    "np.shape(class_list)"
   ],
   "metadata": {
    "collapsed": false,
    "pycharm": {
     "name": "#%%\n"
    }
   }
  },
  {
   "cell_type": "code",
   "execution_count": 64,
   "outputs": [],
   "source": [
    "from sklearn.model_selection import train_test_split\n",
    "train_data_list, test_data_list, train_class_list, test_class_list =\\\n",
    "        train_test_split(train_feature_list, class_list, test_size=0.2)"
   ],
   "metadata": {
    "collapsed": false,
    "pycharm": {
     "name": "#%%\n"
    }
   }
  },
  {
   "cell_type": "code",
   "execution_count": 65,
   "outputs": [
    {
     "name": "stdout",
     "output_type": "stream",
     "text": [
      "0.9694656488549618\n",
      "0.9701492537313433\n",
      "0.9420289855072463\n"
     ]
    }
   ],
   "source": [
    "x = np.array(train_data_list)\n",
    "import numpy as np\n",
    "import sklearn.metrics as metrics\n",
    "y = np.array(train_class_list)\n",
    "from sklearn.svm import SVC\n",
    "clf = SVC() \n",
    "clf.fit(x, y)\n",
    "SVC(C=1.0, cache_size=200, class_weight=None, coef0=0.0,\n",
    "    decision_function_shape='ovr', degree=3, gamma='auto', kernel='rbf',\n",
    "    max_iter=-1, probability=True, random_state=None, shrinking=True,\n",
    "    tol=0.001, verbose=False)\n",
    "print(metrics.accuracy_score(clf.predict(test_data_list),test_class_list))\n",
    "print(metrics.f1_score(clf.predict(test_data_list),test_class_list))\n",
    "print(metrics.recall_score(clf.predict(test_data_list),test_class_list))"
   ],
   "metadata": {
    "collapsed": false,
    "pycharm": {
     "name": "#%%\n"
    }
   }
  },
  {
   "cell_type": "code",
   "execution_count": 66,
   "outputs": [
    {
     "name": "stdout",
     "output_type": "stream",
     "text": [
      "0.9694656488549618\n",
      "0.9701492537313433\n",
      "0.9420289855072463\n"
     ]
    }
   ],
   "source": [
    "from sklearn import tree\n",
    "clf1 = tree.DecisionTreeClassifier()\n",
    "clf1.fit(x, y)\n",
    "print(metrics.accuracy_score(clf.predict(test_data_list),test_class_list))\n",
    "print(metrics.f1_score(clf.predict(test_data_list),test_class_list))\n",
    "print(metrics.recall_score(clf.predict(test_data_list),test_class_list))"
   ],
   "metadata": {
    "collapsed": false,
    "pycharm": {
     "name": "#%%\n"
    }
   }
  },
  {
   "cell_type": "code",
   "execution_count": 67,
   "outputs": [
    {
     "data": {
      "text/plain": "0.9236641221374046"
     },
     "execution_count": 67,
     "metadata": {},
     "output_type": "execute_result"
    }
   ],
   "source": [
    "from sklearn.ensemble import RandomForestClassifier\n",
    "clf = RandomForestClassifier(n_estimators=8)\n",
    "clf.fit(x, y)\n",
    "metrics.accuracy_score(clf.predict(test_data_list),test_class_list)"
   ],
   "metadata": {
    "collapsed": false,
    "pycharm": {
     "name": "#%%\n"
    }
   }
  },
  {
   "cell_type": "code",
   "execution_count": 68,
   "outputs": [
    {
     "name": "stdout",
     "output_type": "stream",
     "text": [
      "0.9389312977099237\n",
      "0.9393939393939394\n",
      "0.9253731343283582\n"
     ]
    }
   ],
   "source": [
    "from sklearn.ensemble import  AdaBoostClassifier\n",
    "clf = AdaBoostClassifier()\n",
    "clf.fit(x, y)\n",
    "print(metrics.accuracy_score(clf.predict(test_data_list),test_class_list))\n",
    "print(metrics.f1_score(clf.predict(test_data_list),test_class_list))\n",
    "print(metrics.recall_score(clf.predict(test_data_list),test_class_list))"
   ],
   "metadata": {
    "collapsed": false,
    "pycharm": {
     "name": "#%%\n"
    }
   }
  },
  {
   "cell_type": "code",
   "execution_count": 69,
   "outputs": [
    {
     "name": "stdout",
     "output_type": "stream",
     "text": [
      "0.9847328244274809\n",
      "0.9848484848484849\n",
      "0.9701492537313433\n"
     ]
    }
   ],
   "source": [
    "from sklearn.linear_model import LogisticRegression\n",
    "\n",
    "clf = LogisticRegression(penalty='l2')\n",
    "clf.fit(x, y)\n",
    "print(metrics.accuracy_score(clf.predict(test_data_list),test_class_list))\n",
    "print(metrics.f1_score(clf.predict(test_data_list),test_class_list))\n",
    "print(metrics.recall_score(clf.predict(test_data_list),test_class_list))"
   ],
   "metadata": {
    "collapsed": false,
    "pycharm": {
     "name": "#%%\n"
    }
   }
  },
  {
   "cell_type": "code",
   "execution_count": 70,
   "outputs": [
    {
     "data": {
      "text/plain": "0.9007633587786259"
     },
     "execution_count": 70,
     "metadata": {},
     "output_type": "execute_result"
    }
   ],
   "source": [
    "\n",
    "from sklearn.neighbors import KNeighborsClassifier\n",
    "clf = KNeighborsClassifier()\n",
    "clf.fit(x, y)\n",
    "metrics.accuracy_score(clf.predict(test_data_list),test_class_list)"
   ],
   "metadata": {
    "collapsed": false,
    "pycharm": {
     "name": "#%%\n"
    }
   }
  },
  {
   "cell_type": "code",
   "execution_count": 71,
   "outputs": [
    {
     "name": "stdout",
     "output_type": "stream",
     "text": [
      "0.9694656488549618\n",
      "0.9701492537313433\n",
      "0.9420289855072463\n"
     ]
    }
   ],
   "source": [
    "from sklearn.svm import SVC\n",
    "clf = SVC(kernel='rbf', probability=True)\n",
    "clf.fit(x, y)\n",
    "print(metrics.accuracy_score(clf.predict(test_data_list),test_class_list))\n",
    "print(metrics.f1_score(clf.predict(test_data_list),test_class_list))\n",
    "print(metrics.recall_score(clf.predict(test_data_list),test_class_list))"
   ],
   "metadata": {
    "collapsed": false,
    "pycharm": {
     "name": "#%%\n"
    }
   }
  },
  {
   "cell_type": "code",
   "execution_count": 72,
   "outputs": [
    {
     "name": "stdout",
     "output_type": "stream",
     "text": [
      "0.916030534351145\n",
      "0.9185185185185185\n",
      "0.8857142857142857\n"
     ]
    }
   ],
   "source": [
    "from sklearn.naive_bayes import GaussianNB\n",
    "\n",
    "clf = GaussianNB()\n",
    "clf.fit(x, y)\n",
    "print(metrics.accuracy_score(clf.predict(test_data_list),test_class_list))\n",
    "print(metrics.f1_score(clf.predict(test_data_list),test_class_list))\n",
    "print(metrics.recall_score(clf.predict(test_data_list),test_class_list))"
   ],
   "metadata": {
    "collapsed": false,
    "pycharm": {
     "name": "#%%\n"
    }
   }
  },
  {
   "cell_type": "code",
   "execution_count": null,
   "outputs": [],
   "source": [],
   "metadata": {
    "collapsed": false,
    "pycharm": {
     "name": "#%%\n"
    }
   }
  }
 ],
 "metadata": {
  "kernelspec": {
   "display_name": "Python 3",
   "language": "python",
   "name": "python3"
  },
  "language_info": {
   "codemirror_mode": {
    "name": "ipython",
    "version": 2
   },
   "file_extension": ".py",
   "mimetype": "text/x-python",
   "name": "python",
   "nbconvert_exporter": "python",
   "pygments_lexer": "ipython2",
   "version": "2.7.6"
  }
 },
 "nbformat": 4,
 "nbformat_minor": 0
}