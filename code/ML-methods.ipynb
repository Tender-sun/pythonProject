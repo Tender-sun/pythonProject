{
 "cells": [
  {
   "cell_type": "code",
   "execution_count": null,
   "outputs": [],
   "source": [
    "import pandas as pd\n",
    "df  =pd.read_csv('csv文件名').astype(str)\n",
    "df = df.drop(\"Unnamed: 0\",axis=1)\n",
    "df"
   ],
   "metadata": {
    "collapsed": false,
    "pycharm": {
     "name": "#%%\n"
    }
   }
  },
  {
   "cell_type": "code",
   "execution_count": null,
   "metadata": {
    "collapsed": true
   },
   "outputs": [],
   "source": [
    "list=df.iloc[:,1].apply(lambda x:(x.split()))\n",
    "all_words_dict = {}\n",
    "word_list = []\n",
    "a = 0\n",
    "for i in range(656):\n",
    "    word_list = list[a]\n",
    "    a = a+1\n",
    "    for word in word_list:\n",
    "        if word in all_words_dict:\n",
    "            all_words_dict[word] += 1\n",
    "        else:\n",
    "            all_words_dict[word] = 1\n",
    "all_words_tuple_list = sorted(all_words_dict.items(), key=lambda f: f[1], reverse=True)  # 内建函数sorted参数需为list"
   ]
  },
  {
   "cell_type": "code",
   "execution_count": null,
   "outputs": [],
   "source": [
    "import numpy as np\n",
    "np.shape(all_words_tuple_list)"
   ],
   "metadata": {
    "collapsed": false,
    "pycharm": {
     "name": "#%%\n"
    }
   }
  },
  {
   "cell_type": "code",
   "execution_count": null,
   "outputs": [],
   "source": [
    "all_word=[]\n",
    "for i in range(447070):#这个值是上面运行结果的维度信息\n",
    "    s = all_words_tuple_list[i][0]\n",
    "    all_word.append(s)"
   ],
   "metadata": {
    "collapsed": false,
    "pycharm": {
     "name": "#%%\n"
    }
   }
  },
  {
   "cell_type": "code",
   "execution_count": null,
   "outputs": [],
   "source": [
    "def words_dict(all_words_list, n):\n",
    "    with open('D:/jupyter-notebook/4~6高年级词库.txt', 'r', encoding=\"UTF-8\") as f:\n",
    "        words_for_students = f.read().split()\n",
    "    words = []\n",
    "    for word in all_words_list[n:]:\n",
    "        if word in words_for_students:\n",
    "            words.append(word)\n",
    "    feature_words = words\n",
    "    return feature_words\n",
    "f_w = words_dict(all_word, 2000)#去除高频词的干扰"
   ],
   "metadata": {
    "collapsed": false,
    "pycharm": {
     "name": "#%%\n"
    }
   }
  },
  {
   "cell_type": "markdown",
   "source": [
    "对书籍进行特征词的onehot编码"
   ],
   "metadata": {
    "collapsed": false
   }
  },
  {
   "cell_type": "code",
   "execution_count": null,
   "outputs": [],
   "source": [
    "def text_features(text, feature_words,flag):\n",
    "    text_words = set(text)\n",
    "    if flag == 'nltk':\n",
    "        features = {word: 1 if word in text_words else 0 for word in feature_words}\n",
    "    elif flag == 'sklearn':\n",
    "        features = [1 if word in text_words else 0 for word in feature_words]\n",
    "    else:\n",
    "        features = []\n",
    "    return features\n",
    "train_feature_list = [text_features(text, f_w,flag='sklearn') for text in list]"
   ],
   "metadata": {
    "collapsed": false,
    "pycharm": {
     "name": "#%%\n"
    }
   }
  },
  {
   "cell_type": "markdown",
   "source": [
    "构建class_list"
   ],
   "metadata": {
    "collapsed": false
   }
  },
  {
   "cell_type": "code",
   "execution_count": null,
   "outputs": [],
   "source": [
    "class_list = []\n",
    "for i in range(656):\n",
    "    #print(i)\n",
    "    if i < 328:\n",
    "        class_list.append(0)\n",
    "    else :\n",
    "        class_list.append(1)"
   ],
   "metadata": {
    "collapsed": false,
    "pycharm": {
     "name": "#%%\n"
    }
   }
  },
  {
   "cell_type": "code",
   "execution_count": null,
   "outputs": [],
   "source": [
    "from sklearn.model_selection import train_test_split\n",
    "train_data_list, test_data_list, train_class_list, test_class_list =\\\n",
    "        train_test_split(train_feature_list, class_list, test_size=0.2)"
   ],
   "metadata": {
    "collapsed": false,
    "pycharm": {
     "name": "#%%\n"
    }
   }
  },
  {
   "cell_type": "code",
   "execution_count": null,
   "outputs": [],
   "source": [
    "import numpy as np\n",
    "import sklearn.metrics as metrics\n",
    "x = np.array(train_data_list)\n",
    "y = np.array(train_class_list)\n",
    "from sklearn.svm import SVC\n",
    "clf = SVC()\n",
    "clf.fit(x, y)\n",
    "SVC(C=1.0, cache_size=200, class_weight=None, coef0=0.0,\n",
    "    decision_function_shape='ovr', degree=3, gamma='auto', kernel='rbf',\n",
    "    max_iter=-1, probability=True, random_state=None, shrinking=True,\n",
    "    tol=0.001, verbose=False)\n",
    "metrics.accuracy_score(clf.predict(test_data_list),test_class_list)\n",
    "metrics.f1_score(clf.predict(test_data_list),test_class_list)"
   ],
   "metadata": {
    "collapsed": false,
    "pycharm": {
     "name": "#%%\n"
    }
   }
  },
  {
   "cell_type": "code",
   "execution_count": null,
   "outputs": [],
   "source": [
    "from sklearn import tree\n",
    "clf1 = tree.DecisionTreeClassifier()\n",
    "clf1.fit(x, y)\n",
    "metrics.accuracy_score(clf1.predict(test_data_list),test_class_list)"
   ],
   "metadata": {
    "collapsed": false,
    "pycharm": {
     "name": "#%%\n"
    }
   }
  },
  {
   "cell_type": "code",
   "execution_count": null,
   "outputs": [],
   "source": [
    "from sklearn.ensemble import RandomForestClassifier\n",
    "clf = RandomForestClassifier(n_estimators=8)\n",
    "clf.fit(x, y)\n",
    "metrics.accuracy_score(clf.predict(test_data_list),test_class_list)"
   ],
   "metadata": {
    "collapsed": false,
    "pycharm": {
     "name": "#%%\n"
    }
   }
  },
  {
   "cell_type": "code",
   "execution_count": null,
   "outputs": [],
   "source": [
    "from sklearn.ensemble import  AdaBoostClassifier\n",
    "clf = AdaBoostClassifier()\n",
    "clf.fit(x, y)\n",
    "print(metrics.accuracy_score(clf.predict(test_data_list),test_class_list))\n",
    "print(metrics.f1_score(clf.predict(test_data_list),test_class_list))\n",
    "print(metrics.recall_score(clf.predict(test_data_list),test_class_list))"
   ],
   "metadata": {
    "collapsed": false,
    "pycharm": {
     "name": "#%%\n"
    }
   }
  },
  {
   "cell_type": "code",
   "execution_count": null,
   "outputs": [],
   "source": [
    "from sklearn.naive_bayes import GaussianNB\n",
    "\n",
    "clf = GaussianNB()\n",
    "clf.fit(x, y)\n",
    "print(metrics.accuracy_score(clf.predict(test_data_list),test_class_list))\n",
    "print(metrics.f1_score(clf.predict(test_data_list),test_class_list))\n",
    "print(metrics.recall_score(clf.predict(test_data_list),test_class_list))"
   ],
   "metadata": {
    "collapsed": false,
    "pycharm": {
     "name": "#%%\n"
    }
   }
  },
  {
   "cell_type": "code",
   "execution_count": null,
   "outputs": [],
   "source": [
    "from sklearn.discriminant_analysis import LinearDiscriminantAnalysis\n",
    "clf = LinearDiscriminantAnalysis()\n",
    "clf.fit(x, y)\n",
    "metrics.accuracy_score(clf.predict(test_data_list),test_class_list)"
   ],
   "metadata": {
    "collapsed": false,
    "pycharm": {
     "name": "#%%\n"
    }
   }
  },
  {
   "cell_type": "code",
   "execution_count": null,
   "outputs": [],
   "source": [
    "from sklearn.neighbors import KNeighborsClassifier\n",
    "clf = KNeighborsClassifier()\n",
    "clf.fit(x, y)\n",
    "metrics.accuracy_score(clf.predict(test_data_list),test_class_list)"
   ],
   "metadata": {
    "collapsed": false,
    "pycharm": {
     "name": "#%%\n"
    }
   }
  },
  {
   "cell_type": "code",
   "execution_count": null,
   "outputs": [],
   "source": [
    "from sklearn.svm import SVC\n",
    "clf = SVC(kernel='rbf', probability=True)\n",
    "clf.fit(x, y)\n",
    "print(metrics.accuracy_score(clf.predict(test_data_list),test_class_list))\n",
    "print(metrics.f1_score(clf.predict(test_data_list),test_class_list))\n",
    "print(metrics.recall_score(clf.predict(test_data_list),test_class_list))"
   ],
   "metadata": {
    "collapsed": false,
    "pycharm": {
     "name": "#%%\n"
    }
   }
  },
  {
   "cell_type": "code",
   "execution_count": null,
   "outputs": [],
   "source": [
    "from sklearn.linear_model import LogisticRegression\n",
    "\n",
    "clf = LogisticRegression(penalty='l2')\n",
    "clf.fit(x, y)\n",
    "print(metrics.accuracy_score(clf.predict(test_data_list),test_class_list))\n",
    "print(metrics.f1_score(clf.predict(test_data_list),test_class_list))\n",
    "print(metrics.recall_score(clf.predict(test_data_list),test_class_list))"
   ],
   "metadata": {
    "collapsed": false,
    "pycharm": {
     "name": "#%%\n"
    }
   }
  },
  {
   "cell_type": "code",
   "execution_count": null,
   "outputs": [],
   "source": [],
   "metadata": {
    "collapsed": false,
    "pycharm": {
     "name": "#%%\n"
    }
   }
  },
  {
   "cell_type": "code",
   "execution_count": null,
   "outputs": [],
   "source": [],
   "metadata": {
    "collapsed": false,
    "pycharm": {
     "name": "#%%\n"
    }
   }
  },
  {
   "cell_type": "code",
   "execution_count": null,
   "outputs": [],
   "source": [],
   "metadata": {
    "collapsed": false,
    "pycharm": {
     "name": "#%%\n"
    }
   }
  },
  {
   "cell_type": "code",
   "execution_count": null,
   "outputs": [],
   "source": [],
   "metadata": {
    "collapsed": false,
    "pycharm": {
     "name": "#%%\n"
    }
   }
  }
 ],
 "metadata": {
  "kernelspec": {
   "display_name": "Python 3",
   "language": "python",
   "name": "python3"
  },
  "language_info": {
   "codemirror_mode": {
    "name": "ipython",
    "version": 2
   },
   "file_extension": ".py",
   "mimetype": "text/x-python",
   "name": "python",
   "nbconvert_exporter": "python",
   "pygments_lexer": "ipython2",
   "version": "2.7.6"
  }
 },
 "nbformat": 4,
 "nbformat_minor": 0
}